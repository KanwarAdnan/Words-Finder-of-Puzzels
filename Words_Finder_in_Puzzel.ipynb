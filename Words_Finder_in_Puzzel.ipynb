{
  "nbformat": 4,
  "nbformat_minor": 0,
  "metadata": {
    "colab": {
      "provenance": []
    },
    "kernelspec": {
      "name": "python3",
      "display_name": "Python 3"
    },
    "language_info": {
      "name": "python"
    }
  },
  "cells": [
    {
      "cell_type": "markdown",
      "source": [
        "<b> Words Finder in Puzzle\n",
        "<b> Code by Kanwar Adnan"
      ],
      "metadata": {
        "id": "f4LimZ6iZB-8"
      }
    },
    {
      "cell_type": "code",
      "source": [
        "from abc import ABC, abstractmethod\n",
        "\n",
        "# Abstract class defining the word-checking strategy\n",
        "class WordCheckingStrategy(ABC):\n",
        "    @abstractmethod\n",
        "    def check_word(self, word, matrix, i, j):\n",
        "        pass"
      ],
      "metadata": {
        "id": "-I8FH30eXpgI"
      },
      "execution_count": 1,
      "outputs": []
    },
    {
      "cell_type": "code",
      "source": [
        "# Concrete implementation of the WordCheckingStrategy for checking words to the right\n",
        "class CheckRightStrategy(WordCheckingStrategy):\n",
        "    def check_word(self, word, matrix, i, j):\n",
        "        word_len = len(word)\n",
        "        cols = len(matrix[0])\n",
        "        if j + word_len <= cols and ''.join(matrix[i][j:j+word_len]) == word:\n",
        "            positions = [(i, k) for k in range(j, j+word_len)]\n",
        "            return positions\n",
        "        return None"
      ],
      "metadata": {
        "id": "rHd9vSoPXrvr"
      },
      "execution_count": 2,
      "outputs": []
    },
    {
      "cell_type": "code",
      "source": [
        "# Concrete implementation of the WordCheckingStrategy for checking words downwards\n",
        "class CheckDownStrategy(WordCheckingStrategy):\n",
        "    def check_word(self, word, matrix, i, j):\n",
        "        word_len = len(word)\n",
        "        rows = len(matrix)\n",
        "        if i + word_len <= rows and all(matrix[i+k][j] == word[k] for k in range(word_len)):\n",
        "            positions = [(i+k, j) for k in range(word_len)]\n",
        "            return positions\n",
        "        return None"
      ],
      "metadata": {
        "id": "NZLUdd7VXwl5"
      },
      "execution_count": 3,
      "outputs": []
    },
    {
      "cell_type": "code",
      "source": [
        "# Concrete implementation of the WordCheckingStrategy for checking words diagonally to the right\n",
        "class CheckDiagonalRightStrategy(WordCheckingStrategy):\n",
        "    def check_word(self, word, matrix, i, j):\n",
        "        word_len = len(word)\n",
        "        rows = len(matrix)\n",
        "        cols = len(matrix[0])\n",
        "        if j + word_len <= cols and i + word_len <= rows and all(matrix[i+k][j+k] == word[k] for k in range(word_len)):\n",
        "            positions = [(i+k, j+k) for k in range(word_len)]\n",
        "            return positions\n",
        "        return None"
      ],
      "metadata": {
        "id": "-RXC-M5BXzFb"
      },
      "execution_count": 4,
      "outputs": []
    },
    {
      "cell_type": "code",
      "source": [
        "# Concrete implementation of the WordCheckingStrategy for checking words diagonally to the left\n",
        "class CheckDiagonalLeftStrategy(WordCheckingStrategy):\n",
        "    def check_word(self, word, matrix, i, j):\n",
        "        word_len = len(word)\n",
        "        rows = len(matrix)\n",
        "        cols = len(matrix[0])\n",
        "        if j - word_len + 1 >= 0 and i + word_len <= rows and all(matrix[i+k][j-k] == word[k] for k in range(word_len)):\n",
        "            positions = [(i+k, j-k) for k in range(word_len)]\n",
        "            return positions\n",
        "        return None\n"
      ],
      "metadata": {
        "id": "Vhyh6FrqX1gh"
      },
      "execution_count": 5,
      "outputs": []
    },
    {
      "cell_type": "code",
      "source": [
        "# Concrete implementation of the WordCheckingStrategy for checking words upwards\n",
        "class CheckUpStrategy(WordCheckingStrategy):\n",
        "    def check_word(self, word, matrix, i, j):\n",
        "        word_len = len(word)\n",
        "        rows = len(matrix)\n",
        "        if i - word_len + 1 >= 0 and all(matrix[i-k][j] == word[k] for k in range(word_len)):\n",
        "            positions = [(i-k, j) for k in range(word_len)]\n",
        "            return positions\n",
        "        return None"
      ],
      "metadata": {
        "id": "mKCiMuVyX3w-"
      },
      "execution_count": 6,
      "outputs": []
    },
    {
      "cell_type": "code",
      "source": [
        "# Concrete implementation of the WordCheckingStrategy for checking words diagonally to the left and upwards\n",
        "class CheckDiagonalLeftUpStrategy(WordCheckingStrategy):\n",
        "    def check_word(self, word, matrix, i, j):\n",
        "        word_len = len(word)\n",
        "        if j - word_len + 1 >= 0 and i - word_len + 1 >= 0 and all(matrix[i-k][j-k] == word[k] for k in range(word_len)):\n",
        "            positions = [(i-k, j-k) for k in range(word_len)]\n",
        "            return positions\n",
        "        return None\n"
      ],
      "metadata": {
        "id": "iJoAZaryX6d_"
      },
      "execution_count": 7,
      "outputs": []
    },
    {
      "cell_type": "code",
      "source": [
        "# Concrete implementation of the WordCheckingStrategy for checking words diagonally to the right and upwards\n",
        "class CheckDiagonalRightUpStrategy(WordCheckingStrategy):\n",
        "    def check_word(self, word, matrix, i, j):\n",
        "        word_len = len(word)\n",
        "        rows = len(matrix)\n",
        "        cols = len(matrix[0])\n",
        "        if j + word_len <= cols and i - word_len + 1 >= 0 and all(matrix[i-k][j+k] == word[k] for k in range(word_len)):\n",
        "            positions = [(i-k, j+k) for k in range(word_len)]\n",
        "            return positions\n",
        "        return None"
      ],
      "metadata": {
        "id": "mdpay6QDX88f"
      },
      "execution_count": 8,
      "outputs": []
    },
    {
      "cell_type": "code",
      "source": [
        "# Concrete implementation of the WordCheckingStrategy for checking words to the left\n",
        "class CheckLeftStrategy(WordCheckingStrategy):\n",
        "    def check_word(self, word, matrix, i, j):\n",
        "        word_len = len(word)\n",
        "        if j - word_len + 1 >= 0 and ''.join(matrix[i][j:j-word_len:-1]) == word:\n",
        "            positions = [(i, k) for k in range(j, j-word_len, -1)]\n",
        "            return positions\n",
        "        return None\n"
      ],
      "metadata": {
        "id": "ZKX_MD3ZX_Zo"
      },
      "execution_count": 9,
      "outputs": []
    },
    {
      "cell_type": "code",
      "source": [
        "# Context class that uses the selected word-checking strategy\n",
        "class WordFinder:\n",
        "    def __init__(self, matrix):\n",
        "        self.matrix = matrix\n",
        "        self.strategies = []\n",
        "\n",
        "    def add_strategy(self, strategy):\n",
        "        self.strategies.append(strategy)\n",
        "\n",
        "    def find_words(self, words):\n",
        "        results = []\n",
        "        rows = len(self.matrix)\n",
        "        cols = len(self.matrix[0])\n",
        "\n",
        "        for word in words:\n",
        "            for i in range(rows):\n",
        "                for j in range(cols):\n",
        "                    positions = None\n",
        "                    for strategy in self.strategies:\n",
        "                        positions = strategy.check_word(word, self.matrix, i, j)\n",
        "                        if positions:\n",
        "                            break\n",
        "                    if positions:\n",
        "                        results.append((word, positions))\n",
        "\n",
        "        return results\n"
      ],
      "metadata": {
        "id": "64aL9hCtYDYl"
      },
      "execution_count": 10,
      "outputs": []
    },
    {
      "cell_type": "code",
      "source": [
        "# Printing Functions\n",
        "\n",
        "def bold_word(word, matrix):\n",
        "    for i, j in word:\n",
        "        matrix[i][j] = '\\033[91m' + matrix[i][j] + '\\033[0m'\n",
        "\n",
        "def print_matrix(matrix):\n",
        "    for row in matrix:\n",
        "        print(' '.join(row))"
      ],
      "metadata": {
        "id": "85-NZqKeYImi"
      },
      "execution_count": 11,
      "outputs": []
    },
    {
      "cell_type": "code",
      "source": [
        "string = \"\"\"GZMMPTGESEUDEYH\n",
        "THOLIDAYSRNPNTN\n",
        "SNISUOCIUEQANUP\n",
        "YSGFKBFOMMRRDMF\n",
        "KREOBSLNZABEHVY\n",
        "CCEQIOPLORPNCES\n",
        "WEDTCNWMHODTCRA\n",
        "NGGBSXGPVQDSKET\n",
        "KUVVNYFQAMHLKSN\n",
        "VXKAHRMVLCYWETA\n",
        "HLYCIFBADKZCKSF\n",
        "ZMCEWDNISWWFDWN\n",
        "QZNXUDECIZQCCPJ\n",
        "NDCFGGGSSTDFCJM\n",
        "SAQMONEYETELEYH\"\"\"\n",
        "\n",
        "matrix = [list(row) for row in string.split('\\n')]\n",
        "\n",
        "words = \"\"\"COLOUR COUSINS PARENTS FRIENDS GOING REST HOLIDAYS LAND MONEY MYSTERY\"\"\"\n",
        "\n",
        "words = words.split(' ')"
      ],
      "metadata": {
        "id": "8-lkngVYYMHn"
      },
      "execution_count": 12,
      "outputs": []
    },
    {
      "cell_type": "code",
      "source": [
        "# WordFinder instance and add the desired strategies\n",
        "finder = WordFinder(matrix)\n",
        "finder.add_strategy(CheckRightStrategy())\n",
        "finder.add_strategy(CheckDownStrategy())\n",
        "finder.add_strategy(CheckDiagonalRightStrategy())\n",
        "finder.add_strategy(CheckDiagonalLeftStrategy())\n",
        "finder.add_strategy(CheckUpStrategy())\n",
        "finder.add_strategy(CheckDiagonalLeftUpStrategy())\n",
        "finder.add_strategy(CheckDiagonalRightUpStrategy())\n",
        "finder.add_strategy(CheckLeftStrategy())"
      ],
      "metadata": {
        "id": "vJlwb8TXYQF6"
      },
      "execution_count": 13,
      "outputs": []
    },
    {
      "cell_type": "code",
      "source": [
        "# Find the words in the grid\n",
        "results = finder.find_words(words)\n",
        "\n",
        "for word, positions in results:\n",
        "    bold_word(positions, matrix)\n",
        "\n",
        "# Print the matrix with the found words in red\n",
        "print_matrix(matrix)"
      ],
      "metadata": {
        "colab": {
          "base_uri": "https://localhost:8080/"
        },
        "id": "Cg4byA-TYS7l",
        "outputId": "252c9e8d-65c4-4a96-f0d0-a1967fe2a259"
      },
      "execution_count": 14,
      "outputs": [
        {
          "output_type": "stream",
          "name": "stdout",
          "text": [
            "G Z M M P T G E S E U D E Y H\n",
            "T \u001b[91mH\u001b[0m \u001b[91mO\u001b[0m \u001b[91mL\u001b[0m \u001b[91mI\u001b[0m \u001b[91mD\u001b[0m \u001b[91mA\u001b[0m \u001b[91mY\u001b[0m \u001b[91mS\u001b[0m \u001b[91mR\u001b[0m N \u001b[91mP\u001b[0m N T N\n",
            "S N I S U O C I \u001b[91mU\u001b[0m E Q \u001b[91mA\u001b[0m N U P\n",
            "\u001b[91mY\u001b[0m S \u001b[91mG\u001b[0m F K B F \u001b[91mO\u001b[0m M M R \u001b[91mR\u001b[0m D M F\n",
            "K \u001b[91mR\u001b[0m E \u001b[91mO\u001b[0m B S \u001b[91mL\u001b[0m N Z A B \u001b[91mE\u001b[0m H V Y\n",
            "C C \u001b[91mE\u001b[0m Q \u001b[91mI\u001b[0m \u001b[91mO\u001b[0m P L O R P \u001b[91mN\u001b[0m C E S\n",
            "W E D \u001b[91mT\u001b[0m \u001b[91mC\u001b[0m \u001b[91mN\u001b[0m W M H O D \u001b[91mT\u001b[0m C \u001b[91mR\u001b[0m A\n",
            "N G G B \u001b[91mS\u001b[0m X \u001b[91mG\u001b[0m P V Q D \u001b[91mS\u001b[0m K \u001b[91mE\u001b[0m T\n",
            "K U V V N \u001b[91mY\u001b[0m \u001b[91mF\u001b[0m Q A M H L K \u001b[91mS\u001b[0m N\n",
            "V X K A H \u001b[91mR\u001b[0m \u001b[91mM\u001b[0m V \u001b[91mL\u001b[0m C Y W E \u001b[91mT\u001b[0m A\n",
            "H L Y C \u001b[91mI\u001b[0m F B \u001b[91mA\u001b[0m D K Z C K S F\n",
            "Z M C \u001b[91mE\u001b[0m W D \u001b[91mN\u001b[0m I S W W F D W N\n",
            "Q Z \u001b[91mN\u001b[0m X U \u001b[91mD\u001b[0m E C I Z Q C C P J\n",
            "N \u001b[91mD\u001b[0m C F G G G S S T D F C J M\n",
            "\u001b[91mS\u001b[0m A Q \u001b[91mM\u001b[0m \u001b[91mO\u001b[0m \u001b[91mN\u001b[0m \u001b[91mE\u001b[0m \u001b[91mY\u001b[0m E T E L E Y H\n"
          ]
        }
      ]
    },
    {
      "cell_type": "code",
      "execution_count": 15,
      "metadata": {
        "colab": {
          "base_uri": "https://localhost:8080/"
        },
        "id": "dKE2t4WVXeJ9",
        "outputId": "6b9bd6a6-144a-4e70-f4f4-9d810c642879"
      },
      "outputs": [
        {
          "output_type": "stream",
          "name": "stdout",
          "text": [
            "Found 'COLOUR' at (6, 4) to (1, 9)\n",
            "Found 'PARENTS' at (1, 11) to (7, 11)\n",
            "Found 'FRIENDS' at (8, 6) to (14, 0)\n",
            "Found 'GOING' at (3, 2) to (7, 6)\n",
            "Found 'REST' at (6, 13) to (9, 13)\n",
            "Found 'HOLIDAYS' at (1, 1) to (1, 8)\n",
            "Found 'LAND' at (9, 8) to (12, 5)\n",
            "Found 'MONEY' at (14, 3) to (14, 7)\n",
            "Found 'MYSTERY' at (9, 6) to (3, 0)\n"
          ]
        }
      ],
      "source": [
        "# Print the found words\n",
        "for word, positions in results:\n",
        "    start_row, start_col = positions[0]\n",
        "    end_row, end_col = positions[-1]\n",
        "    print(f\"Found '{word}' at ({start_row}, {start_col}) to ({end_row}, {end_col})\")"
      ]
    }
  ]
}